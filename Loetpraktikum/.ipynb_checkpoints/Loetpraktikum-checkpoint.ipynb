{
 "cells": [
  {
   "cell_type": "markdown",
   "metadata": {
    "heading_collapsed": true
   },
   "source": [
    "# Importiere Module"
   ]
  },
  {
   "cell_type": "code",
   "execution_count": null,
   "metadata": {
    "hidden": true
   },
   "outputs": [],
   "source": [
    "import pandas as pd\n",
    "from matplotlib import pyplot as plt\n",
    "%matplotlib inline"
   ]
  },
  {
   "cell_type": "markdown",
   "metadata": {
    "heading_collapsed": true
   },
   "source": [
    "# Aufgabe 4) Spannungsteiler"
   ]
  },
  {
   "cell_type": "code",
   "execution_count": null,
   "metadata": {
    "hidden": true
   },
   "outputs": [],
   "source": [
    "spannungsteiler = pd.read_csv('data/spannungsteiler.csv', sep='\\s+', header=[0,1])\n",
    "# spannungsteiler.head()"
   ]
  },
  {
   "cell_type": "code",
   "execution_count": null,
   "metadata": {
    "hidden": true
   },
   "outputs": [],
   "source": [
    "for header in spannungsteiler.columns.levels[0]:\n",
    "    fig, ax = plt.subplots()\n",
    "    spannungsteiler[header].plot.scatter(x='I/mA', y='U/V', label=header, ax=ax, figsize=(5.78, 3.57))\n",
    "    fig.tight_layout(pad=0)\n",
    "    fig.savefig('plots/spannungsteiler_{}.pdf'.format(header))"
   ]
  },
  {
   "cell_type": "markdown",
   "metadata": {
    "heading_collapsed": true
   },
   "source": [
    "# Aufgabe 5) Diode"
   ]
  },
  {
   "cell_type": "code",
   "execution_count": null,
   "metadata": {
    "hidden": true,
    "scrolled": true
   },
   "outputs": [],
   "source": [
    "diode = pd.read_csv('data/diode.csv', sep='\\s+', header=[0,1,2])\n",
    "# diode.head()"
   ]
  },
  {
   "cell_type": "code",
   "execution_count": null,
   "metadata": {
    "hidden": true
   },
   "outputs": [],
   "source": [
    "for header_0 in diode.columns.levels[0]:\n",
    "    for header_1 in diode.columns.levels[1]:\n",
    "        fig, ax = plt.subplots()\n",
    "        for comb in [('I/mA', 'U/mV'), ('I/uA', 'U/mV'), ('I/mA', 'U/V'), ('I/uA', 'U/V')]:\n",
    "            try:\n",
    "                diode[header_0][header_1].plot.scatter(\n",
    "                    x=comb[0], y=comb[1],\n",
    "                    label='{}, {}'.format(header_0, header_1),\n",
    "                    ax=ax, figsize=(5.78, 3.57))\n",
    "                fig.tight_layout(pad=0)\n",
    "                fig.savefig('plots/diode_{}_{}.pdf'.format(header_0, header_1))\n",
    "            except Exception:\n",
    "                pass"
   ]
  },
  {
   "cell_type": "markdown",
   "metadata": {
    "heading_collapsed": true
   },
   "source": [
    "# Aufgabe 7) Operationsverstärker"
   ]
  },
  {
   "cell_type": "code",
   "execution_count": null,
   "metadata": {
    "hidden": true
   },
   "outputs": [],
   "source": [
    "operationsverstaerker = pd.read_csv('data/operationsverstaerker.csv', sep='\\s+', header=0)"
   ]
  },
  {
   "cell_type": "code",
   "execution_count": null,
   "metadata": {
    "hidden": true
   },
   "outputs": [],
   "source": [
    "fig, ax = plt.subplots()\n",
    "operationsverstaerker.plot.scatter(x='U_E/mV', y='U_A/V', ax=ax, figsize=(5.78, 3.57))\n",
    "fig.tight_layout(pad=0)\n",
    "fig.savefig('plots/operationsverstaerker.pdf')"
   ]
  }
 ],
 "metadata": {
  "kernelspec": {
   "display_name": "Python 3",
   "language": "python",
   "name": "python3"
  },
  "language_info": {
   "codemirror_mode": {
    "name": "ipython",
    "version": 3
   },
   "file_extension": ".py",
   "mimetype": "text/x-python",
   "name": "python",
   "nbconvert_exporter": "python",
   "pygments_lexer": "ipython3",
   "version": "3.6.0"
  }
 },
 "nbformat": 4,
 "nbformat_minor": 2
}
